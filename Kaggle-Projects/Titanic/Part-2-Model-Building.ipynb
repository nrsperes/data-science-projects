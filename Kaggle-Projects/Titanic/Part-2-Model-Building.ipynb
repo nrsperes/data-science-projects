{
 "cells": [
  {
   "cell_type": "code",
   "execution_count": 10,
   "metadata": {},
   "outputs": [],
   "source": [
    "# Importing the libraries\n",
    "import numpy as np\n",
    "import pandas as pd\n",
    "import seaborn as sns\n",
    "import matplotlib.pyplot as plt"
   ]
  },
  {
   "cell_type": "code",
   "execution_count": 11,
   "metadata": {},
   "outputs": [],
   "source": [
    "# Importing the dataset\n",
    "X_train = pd.read_csv('X_train.csv')\n",
    "X_test = pd.read_csv('X_test.csv')\n",
    "y_train = pd.read_csv('y_train.csv')"
   ]
  },
  {
   "cell_type": "code",
   "execution_count": 12,
   "metadata": {},
   "outputs": [
    {
     "data": {
      "text/html": [
       "<div>\n",
       "<style scoped>\n",
       "    .dataframe tbody tr th:only-of-type {\n",
       "        vertical-align: middle;\n",
       "    }\n",
       "\n",
       "    .dataframe tbody tr th {\n",
       "        vertical-align: top;\n",
       "    }\n",
       "\n",
       "    .dataframe thead th {\n",
       "        text-align: right;\n",
       "    }\n",
       "</style>\n",
       "<table border=\"1\" class=\"dataframe\">\n",
       "  <thead>\n",
       "    <tr style=\"text-align: right;\">\n",
       "      <th></th>\n",
       "      <th>Pclass_1</th>\n",
       "      <th>Pclass_2</th>\n",
       "      <th>Pclass_3</th>\n",
       "      <th>Sex_female</th>\n",
       "      <th>Sex_male</th>\n",
       "      <th>Embarked_C</th>\n",
       "      <th>Embarked_Q</th>\n",
       "      <th>Embarked_S</th>\n",
       "      <th>Age</th>\n",
       "      <th>SibSp</th>\n",
       "      <th>Parch</th>\n",
       "      <th>Fare_norm</th>\n",
       "    </tr>\n",
       "  </thead>\n",
       "  <tbody>\n",
       "    <tr>\n",
       "      <th>0</th>\n",
       "      <td>0</td>\n",
       "      <td>0</td>\n",
       "      <td>1</td>\n",
       "      <td>0</td>\n",
       "      <td>1</td>\n",
       "      <td>0</td>\n",
       "      <td>0</td>\n",
       "      <td>1</td>\n",
       "      <td>-0.563674</td>\n",
       "      <td>0.431350</td>\n",
       "      <td>-0.474326</td>\n",
       "      <td>-0.877591</td>\n",
       "    </tr>\n",
       "    <tr>\n",
       "      <th>1</th>\n",
       "      <td>1</td>\n",
       "      <td>0</td>\n",
       "      <td>0</td>\n",
       "      <td>1</td>\n",
       "      <td>0</td>\n",
       "      <td>1</td>\n",
       "      <td>0</td>\n",
       "      <td>0</td>\n",
       "      <td>0.669217</td>\n",
       "      <td>0.431350</td>\n",
       "      <td>-0.474326</td>\n",
       "      <td>1.366380</td>\n",
       "    </tr>\n",
       "    <tr>\n",
       "      <th>2</th>\n",
       "      <td>0</td>\n",
       "      <td>0</td>\n",
       "      <td>1</td>\n",
       "      <td>1</td>\n",
       "      <td>0</td>\n",
       "      <td>0</td>\n",
       "      <td>0</td>\n",
       "      <td>1</td>\n",
       "      <td>-0.255451</td>\n",
       "      <td>-0.475199</td>\n",
       "      <td>-0.474326</td>\n",
       "      <td>-0.796281</td>\n",
       "    </tr>\n",
       "    <tr>\n",
       "      <th>3</th>\n",
       "      <td>1</td>\n",
       "      <td>0</td>\n",
       "      <td>0</td>\n",
       "      <td>1</td>\n",
       "      <td>0</td>\n",
       "      <td>0</td>\n",
       "      <td>0</td>\n",
       "      <td>1</td>\n",
       "      <td>0.438050</td>\n",
       "      <td>0.431350</td>\n",
       "      <td>-0.474326</td>\n",
       "      <td>1.066796</td>\n",
       "    </tr>\n",
       "    <tr>\n",
       "      <th>4</th>\n",
       "      <td>0</td>\n",
       "      <td>0</td>\n",
       "      <td>1</td>\n",
       "      <td>0</td>\n",
       "      <td>1</td>\n",
       "      <td>0</td>\n",
       "      <td>0</td>\n",
       "      <td>1</td>\n",
       "      <td>0.438050</td>\n",
       "      <td>-0.475199</td>\n",
       "      <td>-0.474326</td>\n",
       "      <td>-0.781901</td>\n",
       "    </tr>\n",
       "  </tbody>\n",
       "</table>\n",
       "</div>"
      ],
      "text/plain": [
       "   Pclass_1  Pclass_2  Pclass_3  Sex_female  Sex_male  Embarked_C  Embarked_Q  \\\n",
       "0         0         0         1           0         1           0           0   \n",
       "1         1         0         0           1         0           1           0   \n",
       "2         0         0         1           1         0           0           0   \n",
       "3         1         0         0           1         0           0           0   \n",
       "4         0         0         1           0         1           0           0   \n",
       "\n",
       "   Embarked_S       Age     SibSp     Parch  Fare_norm  \n",
       "0           1 -0.563674  0.431350 -0.474326  -0.877591  \n",
       "1           0  0.669217  0.431350 -0.474326   1.366380  \n",
       "2           1 -0.255451 -0.475199 -0.474326  -0.796281  \n",
       "3           1  0.438050  0.431350 -0.474326   1.066796  \n",
       "4           1  0.438050 -0.475199 -0.474326  -0.781901  "
      ]
     },
     "execution_count": 12,
     "metadata": {},
     "output_type": "execute_result"
    }
   ],
   "source": [
    "X_train.head()"
   ]
  },
  {
   "cell_type": "markdown",
   "metadata": {},
   "source": [
    "### Cross-validation: baseline performance\n",
    "First, a k-folds cross-validation will be employed, to establish a baseline using multiple classification models. The baseline scores are as follows:\n",
    "##### Summary:\n",
    "- **Naïve Bayes:** 77.06%\n",
    "- **Logistic Regression:** 78.97%\n",
    "- **K-NN:** 81.55%\n",
    "- **Decision Tree:** 77.84%\n",
    "- **Random Forest:** 80.99%\n",
    "- **SVC:** 82.23%\n",
    "- **XGBoost:** 81.44%"
   ]
  },
  {
   "cell_type": "code",
   "execution_count": 47,
   "metadata": {},
   "outputs": [],
   "source": [
    "# Importing the libraries\n",
    "from sklearn.model_selection import cross_val_score\n",
    "from sklearn.naive_bayes import GaussianNB\n",
    "from sklearn.linear_model import LogisticRegression\n",
    "from sklearn.neighbors import KNeighborsClassifier\n",
    "from sklearn.tree import DecisionTreeClassifier\n",
    "from sklearn.ensemble import RandomForestClassifier\n",
    "from sklearn.svm import SVC\n",
    "from xgboost import XGBClassifier\n",
    "from sklearn.ensemble import VotingClassifier\n",
    "\n",
    "base_mean = []\n",
    "base_std = []"
   ]
  },
  {
   "cell_type": "code",
   "execution_count": 48,
   "metadata": {},
   "outputs": [
    {
     "name": "stdout",
     "output_type": "stream",
     "text": [
      "[0.70786517 0.76404494 0.78089888 0.79213483 0.8079096 ]\n",
      "\n",
      "mean:  0.7705706849488987\n",
      "std:  0.03446866969790026\n"
     ]
    }
   ],
   "source": [
    "# Naive Bayes\n",
    "nb = GaussianNB()\n",
    "cv = cross_val_score(nb, X_train, np.ravel(y_train), cv=5)\n",
    "base_mean.append(cv.mean())\n",
    "base_std.append(cv.std())\n",
    "print(cv)\n",
    "print()\n",
    "print('mean: ', cv.mean())\n",
    "print('std: ', cv.std())"
   ]
  },
  {
   "cell_type": "code",
   "execution_count": 49,
   "metadata": {},
   "outputs": [
    {
     "name": "stdout",
     "output_type": "stream",
     "text": [
      "[0.78651685 0.79775281 0.76966292 0.76966292 0.82485876]\n",
      "\n",
      "mean:  0.7896908525360249\n",
      "std:  0.02056252403309599\n"
     ]
    }
   ],
   "source": [
    "# Logistic Regression\n",
    "log_reg = LogisticRegression()\n",
    "cv = cross_val_score(log_reg, X_train, np.ravel(y_train), cv=5)\n",
    "base_mean.append(cv.mean())\n",
    "base_std.append(cv.std())\n",
    "print(cv)\n",
    "print()\n",
    "print('mean: ', cv.mean())\n",
    "print('std: ', cv.std())"
   ]
  },
  {
   "cell_type": "code",
   "execution_count": 50,
   "metadata": {},
   "outputs": [
    {
     "name": "stdout",
     "output_type": "stream",
     "text": [
      "[0.79213483 0.78651685 0.84269663 0.82022472 0.83615819]\n",
      "\n",
      "mean:  0.8155462451596522\n",
      "std:  0.02269221750013065\n"
     ]
    }
   ],
   "source": [
    "# K-NN\n",
    "knn = KNeighborsClassifier()\n",
    "cv = cross_val_score(knn, X_train, np.ravel(y_train), cv=5)\n",
    "base_mean.append(cv.mean())\n",
    "base_std.append(cv.std())\n",
    "print(cv)\n",
    "print()\n",
    "print('mean: ', cv.mean())\n",
    "print('std: ', cv.std())"
   ]
  },
  {
   "cell_type": "code",
   "execution_count": 51,
   "metadata": {},
   "outputs": [
    {
     "name": "stdout",
     "output_type": "stream",
     "text": [
      "[0.74719101 0.78651685 0.81460674 0.73033708 0.81355932]\n",
      "\n",
      "mean:  0.7784422014854313\n",
      "std:  0.034342468933856285\n"
     ]
    }
   ],
   "source": [
    "# Decision Tree\n",
    "dtree = DecisionTreeClassifier(random_state=1)\n",
    "cv = cross_val_score(dtree, X_train, np.ravel(y_train), cv=5)\n",
    "base_mean.append(cv.mean())\n",
    "base_std.append(cv.std())\n",
    "print(cv)\n",
    "print()\n",
    "print('mean: ', cv.mean())\n",
    "print('std: ', cv.std())"
   ]
  },
  {
   "cell_type": "code",
   "execution_count": 52,
   "metadata": {},
   "outputs": [
    {
     "name": "stdout",
     "output_type": "stream",
     "text": [
      "[0.78089888 0.80898876 0.85393258 0.78089888 0.82485876]\n",
      "\n",
      "mean:  0.8099155716371484\n",
      "std:  0.027732985300898443\n"
     ]
    }
   ],
   "source": [
    "# Random Forest\n",
    "forest = RandomForestClassifier(random_state=1)\n",
    "cv = cross_val_score(forest, X_train, np.ravel(y_train), cv=5)\n",
    "base_mean.append(cv.mean())\n",
    "base_std.append(cv.std())\n",
    "print(cv)\n",
    "print()\n",
    "print('mean: ', cv.mean())\n",
    "print('std: ', cv.std())"
   ]
  },
  {
   "cell_type": "code",
   "execution_count": 53,
   "metadata": {},
   "outputs": [
    {
     "name": "stdout",
     "output_type": "stream",
     "text": [
      "[0.8258427  0.81460674 0.80898876 0.80337079 0.85875706]\n",
      "\n",
      "mean:  0.8223132101821875\n",
      "std:  0.019679215219160818\n"
     ]
    }
   ],
   "source": [
    "# SVC\n",
    "svc = SVC()\n",
    "cv = cross_val_score(svc, X_train, np.ravel(y_train), cv=5)\n",
    "base_mean.append(cv.mean())\n",
    "base_std.append(cv.std())\n",
    "print(cv)\n",
    "print()\n",
    "print('mean: ', cv.mean())\n",
    "print('std: ', cv.std())"
   ]
  },
  {
   "cell_type": "code",
   "execution_count": 54,
   "metadata": {},
   "outputs": [
    {
     "name": "stdout",
     "output_type": "stream",
     "text": [
      "[0.78089888 0.8258427  0.85393258 0.76966292 0.84180791]\n",
      "\n",
      "mean:  0.8144289976512411\n",
      "std:  0.033372687390155684\n"
     ]
    }
   ],
   "source": [
    "# XGBoost\n",
    "xgb = XGBClassifier(random_state=1, use_label_encoder=False, eval_metric='error')\n",
    "cv = cross_val_score(xgb, X_train, np.ravel(y_train), cv=5)\n",
    "base_mean.append(cv.mean())\n",
    "base_std.append(cv.std())\n",
    "print(cv)\n",
    "print()\n",
    "print('mean: ', cv.mean())\n",
    "print('std: ', cv.std())"
   ]
  },
  {
   "cell_type": "code",
   "execution_count": 60,
   "metadata": {},
   "outputs": [
    {
     "data": {
      "text/plain": [
       "[0.7705706849488987,\n",
       " 0.7896908525360249,\n",
       " 0.8155462451596522,\n",
       " 0.7784422014854313,\n",
       " 0.8099155716371484,\n",
       " 0.8223132101821875,\n",
       " 0.8144289976512411]"
      ]
     },
     "execution_count": 60,
     "metadata": {},
     "output_type": "execute_result"
    }
   ],
   "source": [
    "base_mean"
   ]
  },
  {
   "cell_type": "markdown",
   "metadata": {},
   "source": [
    "### Tuning model performance\n",
    "Having the baselines established, now I want to see if I can improve model results. This is performed using GridSearch and RandomizedSearch. The results are in the following table:\n",
    "\n",
    "|Model|Baseline score|Tuned model score|\n",
    "|:-|-:|-:|\n",
    "|Naïve Bayes| 77.06%| NA|\n",
    "|Logistic Regression| 78.97%| 79.87%|\n",
    "|K-NN| 81.55%| 81.55%|\n",
    "|Decision Tree| 77.84%| NA|\n",
    "|Random Forest| 80.99%| 83.36%|\n",
    "|SVC| 82.23%| 82.34%|\n",
    "|XGBoost| 81.44%| 84.81%|"
   ]
  },
  {
   "cell_type": "code",
   "execution_count": 61,
   "metadata": {},
   "outputs": [],
   "source": [
    "from sklearn.model_selection import GridSearchCV\n",
    "from sklearn.model_selection import RandomizedSearchCV"
   ]
  },
  {
   "cell_type": "code",
   "execution_count": 62,
   "metadata": {},
   "outputs": [],
   "source": [
    "def tuned_model(classifier, model):\n",
    "    print(model)\n",
    "    print('Tuned score: ' + str(classifier.best_score_))\n",
    "    print('Tuned parameters: ' + str(classifier.best_params_))"
   ]
  },
  {
   "cell_type": "code",
   "execution_count": 86,
   "metadata": {},
   "outputs": [
    {
     "name": "stdout",
     "output_type": "stream",
     "text": [
      "Fitting 5 folds for each of 50 candidates, totalling 250 fits\n"
     ]
    },
    {
     "name": "stderr",
     "output_type": "stream",
     "text": [
      "[Parallel(n_jobs=-1)]: Using backend LokyBackend with 8 concurrent workers.\n",
      "[Parallel(n_jobs=-1)]: Done  56 tasks      | elapsed:    0.1s\n"
     ]
    },
    {
     "name": "stdout",
     "output_type": "stream",
     "text": [
      "Logistic Regression\n",
      "Tuned score: 0.7986859645781755\n",
      "Tuned parameters: {'C': 0.046415888336127774, 'max_iter': 2000, 'penalty': 'l2', 'solver': 'liblinear'}\n"
     ]
    },
    {
     "name": "stderr",
     "output_type": "stream",
     "text": [
      "[Parallel(n_jobs=-1)]: Done 250 out of 250 | elapsed:    0.4s finished\n"
     ]
    }
   ],
   "source": [
    "# Logistic Regression\n",
    "log_reg = LogisticRegression()\n",
    "param_grid = {\n",
    "    'max_iter': [2000],\n",
    "    'penalty': ['l1','l2'],\n",
    "    'C': np.logspace(-4,4,25),\n",
    "    'solver': ['liblinear']\n",
    "    }\n",
    "\n",
    "GS_log = GridSearchCV(log_reg, param_grid, cv=5, verbose=True, n_jobs=-1)\n",
    "best_GS_log = GS_log.fit(X_train, np.ravel(y_train))\n",
    "tuned_model(best_GS_log, 'Logistic Regression')"
   ]
  },
  {
   "cell_type": "code",
   "execution_count": 87,
   "metadata": {},
   "outputs": [
    {
     "name": "stdout",
     "output_type": "stream",
     "text": [
      "Fitting 5 folds for each of 108 candidates, totalling 540 fits\n"
     ]
    },
    {
     "name": "stderr",
     "output_type": "stream",
     "text": [
      "[Parallel(n_jobs=-1)]: Using backend LokyBackend with 8 concurrent workers.\n",
      "[Parallel(n_jobs=-1)]: Done  56 tasks      | elapsed:    0.2s\n"
     ]
    },
    {
     "name": "stdout",
     "output_type": "stream",
     "text": [
      "K-Nearest Neighbors\n",
      "Tuned score: 0.8155462451596522\n",
      "Tuned parameters: {'algorithm': 'auto', 'n_neighbors': 5, 'p': 2, 'weights': 'uniform'}\n"
     ]
    },
    {
     "name": "stderr",
     "output_type": "stream",
     "text": [
      "[Parallel(n_jobs=-1)]: Done 540 out of 540 | elapsed:    1.2s finished\n"
     ]
    }
   ],
   "source": [
    "# K-NN\n",
    "knn = KNeighborsClassifier()\n",
    "param_grid = {\n",
    "    'n_neighbors': np.linspace(2,10,9).astype(int),\n",
    "    'weights': ['uniform','distance'],\n",
    "    'algorithm': ['auto','ball_tree','kd_tree'],\n",
    "    'p': [1, 2]\n",
    "    }\n",
    "\n",
    "GS_knn = GridSearchCV(knn, param_grid, cv=5, verbose=True, n_jobs=-1)\n",
    "best_GS_knn = GS_knn.fit(X_train, np.ravel(y_train))\n",
    "tuned_model(best_GS_knn, 'K-Nearest Neighbors')"
   ]
  },
  {
   "cell_type": "code",
   "execution_count": 89,
   "metadata": {},
   "outputs": [
    {
     "name": "stdout",
     "output_type": "stream",
     "text": [
      "Fitting 5 folds for each of 100 candidates, totalling 500 fits\n"
     ]
    },
    {
     "name": "stderr",
     "output_type": "stream",
     "text": [
      "[Parallel(n_jobs=-1)]: Using backend LokyBackend with 8 concurrent workers.\n",
      "[Parallel(n_jobs=-1)]: Done  34 tasks      | elapsed:    7.5s\n",
      "[Parallel(n_jobs=-1)]: Done 184 tasks      | elapsed:   30.9s\n",
      "[Parallel(n_jobs=-1)]: Done 434 tasks      | elapsed:  1.2min\n"
     ]
    },
    {
     "name": "stdout",
     "output_type": "stream",
     "text": [
      "Random Forest - randomized search\n",
      "Tuned score: 0.8313083222243381\n",
      "Tuned parameters: {'n_estimators': 100, 'min_samples_split': 5, 'min_samples_leaf': 1, 'max_features': 'sqrt', 'max_depth': 10, 'bootstrap': False}\n"
     ]
    },
    {
     "name": "stderr",
     "output_type": "stream",
     "text": [
      "[Parallel(n_jobs=-1)]: Done 500 out of 500 | elapsed:  1.4min finished\n"
     ]
    }
   ],
   "source": [
    "# Random Forest - Randomized Search\n",
    "forest = RandomForestClassifier(random_state=1)\n",
    "param_grid = {\n",
    "    'n_estimators': [100, 500, 1000],\n",
    "    'bootstrap': [True, False],\n",
    "    'max_depth': [5, 10, 20, 50, 75, 100],\n",
    "    'max_features': ['auto', 'sqrt'],\n",
    "    'min_samples_leaf': [1, 2, 5, 10],\n",
    "    'min_samples_split': [2, 5, 10]\n",
    "    }\n",
    "\n",
    "RS_forest = RandomizedSearchCV(forest, param_distributions=param_grid, n_iter=100, cv=5, verbose=True, n_jobs=-1)\n",
    "best_RS_forest = RS_forest.fit(X_train, np.ravel(y_train))\n",
    "tuned_model(best_RS_forest, 'Random Forest - randomized search')"
   ]
  },
  {
   "cell_type": "code",
   "execution_count": 90,
   "metadata": {},
   "outputs": [
    {
     "name": "stdout",
     "output_type": "stream",
     "text": [
      "Fitting 5 folds for each of 648 candidates, totalling 3240 fits\n"
     ]
    },
    {
     "name": "stderr",
     "output_type": "stream",
     "text": [
      "[Parallel(n_jobs=-1)]: Using backend LokyBackend with 8 concurrent workers.\n",
      "[Parallel(n_jobs=-1)]: Done  34 tasks      | elapsed:    1.2s\n",
      "[Parallel(n_jobs=-1)]: Done 184 tasks      | elapsed:    6.6s\n",
      "[Parallel(n_jobs=-1)]: Done 434 tasks      | elapsed:   16.0s\n",
      "[Parallel(n_jobs=-1)]: Done 784 tasks      | elapsed:   28.8s\n",
      "[Parallel(n_jobs=-1)]: Done 1234 tasks      | elapsed:   46.0s\n",
      "[Parallel(n_jobs=-1)]: Done 1784 tasks      | elapsed:  1.1min\n",
      "[Parallel(n_jobs=-1)]: Done 2434 tasks      | elapsed:  1.5min\n",
      "[Parallel(n_jobs=-1)]: Done 3184 tasks      | elapsed:  2.1min\n"
     ]
    },
    {
     "name": "stdout",
     "output_type": "stream",
     "text": [
      "Random Forest- grid search\n",
      "Tuned score: 0.8335555132355742\n",
      "Tuned parameters: {'bootstrap': True, 'criterion': 'entropy', 'max_depth': 12, 'max_features': 'auto', 'min_samples_leaf': 1, 'min_samples_split': 5, 'n_estimators': 100}\n"
     ]
    },
    {
     "name": "stderr",
     "output_type": "stream",
     "text": [
      "[Parallel(n_jobs=-1)]: Done 3240 out of 3240 | elapsed:  2.1min finished\n"
     ]
    }
   ],
   "source": [
    "# Random Forest - Grid Search\n",
    "forest = RandomForestClassifier(random_state=1)\n",
    "param_grid = {\n",
    "    'n_estimators': [80, 100, 120],\n",
    "    'bootstrap': [True, False],\n",
    "    'criterion': ['gini', 'entropy'],\n",
    "    'max_depth': [8, 10, 12],\n",
    "    'max_features': ['auto', 'sqrt'],\n",
    "    'min_samples_leaf': [1, 2, 5],\n",
    "    'min_samples_split': [4, 5, 6]\n",
    "    }\n",
    "\n",
    "GS_forest = GridSearchCV(forest, param_grid, cv=5, verbose=True, n_jobs=-1)\n",
    "best_GS_forest = GS_forest.fit(X_train, np.ravel(y_train))\n",
    "tuned_model(best_GS_forest, 'Random Forest- grid search')"
   ]
  },
  {
   "cell_type": "code",
   "execution_count": 92,
   "metadata": {},
   "outputs": [
    {
     "name": "stdout",
     "output_type": "stream",
     "text": [
      "Fitting 5 folds for each of 50 candidates, totalling 250 fits\n"
     ]
    },
    {
     "name": "stderr",
     "output_type": "stream",
     "text": [
      "[Parallel(n_jobs=-1)]: Using backend LokyBackend with 8 concurrent workers.\n",
      "[Parallel(n_jobs=-1)]: Done  52 tasks      | elapsed:    0.8s\n"
     ]
    },
    {
     "name": "stdout",
     "output_type": "stream",
     "text": [
      "SVC\n",
      "Tuned score: 0.8234431536850124\n",
      "Tuned parameters: {'C': 1, 'degree': 3, 'kernel': 'poly'}\n"
     ]
    },
    {
     "name": "stderr",
     "output_type": "stream",
     "text": [
      "[Parallel(n_jobs=-1)]: Done 250 out of 250 | elapsed:   35.6s finished\n"
     ]
    }
   ],
   "source": [
    "# SVC\n",
    "svc = SVC(probability=True)\n",
    "param_grid = [\n",
    "    {'kernel': ['rbf'], 'gamma': [.001, .01, .1, 1, 2, 10], 'C': [.1, 1, 10, 100, 1000]},\n",
    "    {'kernel': ['poly'], 'degree': [2, 3, 4, 5], 'C': [.1, 1, 10, 100, 1000]},\n",
    "    ]\n",
    "\n",
    "GS_svc = GridSearchCV(svc, param_grid, cv=5, verbose=True, n_jobs=-1)\n",
    "best_GS_svc = GS_svc.fit(X_train, np.ravel(y_train))\n",
    "tuned_model(best_GS_svc, 'SVC')"
   ]
  },
  {
   "cell_type": "code",
   "execution_count": 96,
   "metadata": {},
   "outputs": [
    {
     "name": "stdout",
     "output_type": "stream",
     "text": [
      "Fitting 5 folds for each of 1000 candidates, totalling 5000 fits\n"
     ]
    },
    {
     "name": "stderr",
     "output_type": "stream",
     "text": [
      "[Parallel(n_jobs=-1)]: Using backend LokyBackend with 8 concurrent workers.\n",
      "[Parallel(n_jobs=-1)]: Done  34 tasks      | elapsed:    4.4s\n",
      "[Parallel(n_jobs=-1)]: Done 184 tasks      | elapsed:   15.9s\n",
      "[Parallel(n_jobs=-1)]: Done 617 tasks      | elapsed:   35.8s\n",
      "[Parallel(n_jobs=-1)]: Done 1148 tasks      | elapsed:  1.3min\n",
      "[Parallel(n_jobs=-1)]: Done 1807 tasks      | elapsed:  1.9min\n",
      "[Parallel(n_jobs=-1)]: Done 2600 tasks      | elapsed:  2.6min\n",
      "[Parallel(n_jobs=-1)]: Done 3476 tasks      | elapsed:  3.6min\n",
      "[Parallel(n_jobs=-1)]: Done 4544 tasks      | elapsed:  4.8min\n",
      "[Parallel(n_jobs=-1)]: Done 4985 out of 5000 | elapsed:  5.3min remaining:    0.9s\n",
      "[Parallel(n_jobs=-1)]: Done 5000 out of 5000 | elapsed:  5.4min finished\n"
     ]
    },
    {
     "name": "stdout",
     "output_type": "stream",
     "text": [
      "XGBoost - randomized search\n",
      "Tuned score: 0.8481432108169873\n",
      "Tuned parameters: {'subsample': 0.6, 'sampling_method': 'uniform', 'reg_lambda': 2, 'reg_alpha': 0.5, 'n_estimators': 500, 'min_child_weight': 0, 'max_depth': 15, 'learning_rate': 0.5, 'gamma': 0.1, 'colsample_bytree': 0.2}\n"
     ]
    }
   ],
   "source": [
    "# XGBoost - Randomized Search\n",
    "xgb = XGBClassifier(random_state=1, use_label_encoder=False, eval_metric='error')\n",
    "param_grid = {\n",
    "    'n_estimators': [20, 50, 100, 250, 500, 1000],\n",
    "    'colsample_bytree': [0.2, 0.5, 0.7, 0.8, 1],\n",
    "    'max_depth': [2, 5, 10, 15, 20, 25, None],\n",
    "    'reg_alpha': [0, 0.5, 1],\n",
    "    'reg_lambda': [1, 1.5, 2],\n",
    "    'subsample': [0.5, 0.6, 0.7, 0.8, 0.9],\n",
    "    'learning_rate': [0.01, 0.1, 0.2, 0.3, 0.5, 0.7, 0.9],\n",
    "    'gamma': [0, 0.01, 0.1, 1, 10, 100],\n",
    "    'min_child_weight': [0, 0.01, 0.1, 1, 10, 100],\n",
    "    'sampling_method': ['uniform', 'gradient_based']\n",
    "    }\n",
    "\n",
    "RS_xgb = RandomizedSearchCV(xgb, param_distributions=param_grid, n_iter=1000, cv=5, verbose=True, n_jobs=-1)\n",
    "best_RS_xgb = RS_xgb.fit(X_train, np.ravel(y_train))\n",
    "tuned_model(best_RS_xgb, 'XGBoost - randomized search')"
   ]
  },
  {
   "cell_type": "code",
   "execution_count": 98,
   "metadata": {},
   "outputs": [
    {
     "name": "stdout",
     "output_type": "stream",
     "text": [
      "Fitting 5 folds for each of 36 candidates, totalling 180 fits\n"
     ]
    },
    {
     "name": "stderr",
     "output_type": "stream",
     "text": [
      "[Parallel(n_jobs=-1)]: Using backend LokyBackend with 8 concurrent workers.\n",
      "[Parallel(n_jobs=-1)]: Done  34 tasks      | elapsed:    5.7s\n",
      "[Parallel(n_jobs=-1)]: Done 180 out of 180 | elapsed:   28.2s finished\n"
     ]
    },
    {
     "name": "stdout",
     "output_type": "stream",
     "text": [
      "XGBoost - grid search\n",
      "Tuned score: 0.8481432108169873\n",
      "Tuned parameters: {'colsample_bytree': 0.2, 'gamma': 0.1, 'learning_rate': 0.5, 'max_depth': 14, 'min_child_weight': 0, 'n_estimators': 500, 'reg_alpha': 0.5, 'reg_lambda': 2, 'sampling_method': 'uniform', 'subsample': 0.6}\n"
     ]
    }
   ],
   "source": [
    "# XGBoost - Grid Search\n",
    "xgb = XGBClassifier(random_state=1, use_label_encoder=False, eval_metric='error')\n",
    "param_grid = {\n",
    "    'n_estimators': [450, 500, 550],\n",
    "    'colsample_bytree': [0.2],\n",
    "    'max_depth': [14, 15],\n",
    "    'reg_alpha': [0.5],\n",
    "    'reg_lambda': [2, 5],\n",
    "    'subsample': [0.55, 0.6, 0.65],\n",
    "    'learning_rate': [0.5],\n",
    "    'gamma': [0.1],\n",
    "    'min_child_weight': [0],\n",
    "    'sampling_method': ['uniform']\n",
    "    }\n",
    "\n",
    "GS_xgb = GridSearchCV(xgb, param_grid, cv=5, verbose=True, n_jobs=-1)\n",
    "best_GS_xgb = GS_xgb.fit(X_train, np.ravel(y_train))\n",
    "tuned_model(best_GS_xgb, 'XGBoost - grid search')"
   ]
  },
  {
   "cell_type": "markdown",
   "metadata": {},
   "source": [
    "### Exporting the predicted values\n",
    "The best results are from the Random Forest and XGBoost. Both models will be used for predicting the test values and uploaded into Kaggle. The following table shows the score results (percentage of correctly predicted results).\n",
    "\n",
    "|Model|Score|\n",
    "|:-|-:|\n",
    "|Random Forest| 80.62%|\n",
    "|XGBoost| 73.92%|\n",
    "\n",
    "The fact that XGBoost yielded significantly worse results may be due to the fact that the relevant features used in the model show inconsistencies, as shown in the graphs below."
   ]
  },
  {
   "cell_type": "code",
   "execution_count": 103,
   "metadata": {},
   "outputs": [],
   "source": [
    "best_forest = best_GS_forest.best_estimator_.fit(X_train, np.ravel(y_train))\n",
    "y_pred_forest = best_forest.predict(X_test).astype(int)\n",
    "\n",
    "best_xgb = best_GS_xgb.best_estimator_.fit(X_train, np.ravel(y_train))\n",
    "y_pred_xgb = best_xgb.predict(X_test).astype(int)"
   ]
  },
  {
   "cell_type": "code",
   "execution_count": 107,
   "metadata": {},
   "outputs": [],
   "source": [
    "test = pd.read_csv('test_original.csv')\n",
    "\n",
    "forest_submission = pd.DataFrame(data = {'PassengerId': test.PassengerId, 'Survived': y_pred_forest})\n",
    "xgb_submission = pd.DataFrame(data = {'PassengerId': test.PassengerId, 'Survived': y_pred_xgb})"
   ]
  },
  {
   "cell_type": "code",
   "execution_count": 108,
   "metadata": {},
   "outputs": [],
   "source": [
    "forest_submission.to_csv('ForestSubmission.csv', index=False)\n",
    "xgb_submission.to_csv('XGBSubmission.csv', index=False)"
   ]
  },
  {
   "cell_type": "code",
   "execution_count": 139,
   "metadata": {},
   "outputs": [
    {
     "data": {
      "text/plain": [
       "Text(0.5, 1.0, 'XGB')"
      ]
     },
     "execution_count": 139,
     "metadata": {},
     "output_type": "execute_result"
    },
    {
     "data": {
      "image/png": "[encoded data removed]",
      "text/plain": [
       "<Figure size 864x432 with 2 Axes>"
      ]
     },
     "metadata": {
      "needs_background": "light"
     },
     "output_type": "display_data"
    }
   ],
   "source": [
    "feat_forest = pd.Series(best_forest.feature_importances_, index=X_train.columns)\n",
    "feat_forest.sort_values(inplace=True)\n",
    "\n",
    "feat_xgb = pd.Series(best_xgb.feature_importances_, index=X_train.columns)\n",
    "feat_xgb.sort_values(inplace=True)\n",
    "\n",
    "f, ax = plt.subplots(nrows=1,ncols=2,figsize=(12,6))\n",
    "f.tight_layout(pad=5)\n",
    "\n",
    "sns.barplot(ax=ax[0], y=feat_forest.index, x=feat_forest.values)\n",
    "ax[0].set_title('Forest')\n",
    "\n",
    "sns.barplot(ax=ax[1], y=feat_xgb.index, x=feat_xgb.values)\n",
    "ax[1].set_title('XGB')"
   ]
  }
 ],
 "metadata": {
  "kernelspec": {
   "display_name": "Python 3",
   "language": "python",
   "name": "python3"
  },
  "language_info": {
   "codemirror_mode": {
    "name": "ipython",
    "version": 3
   },
   "file_extension": ".py",
   "mimetype": "text/x-python",
   "name": "python",
   "nbconvert_exporter": "python",
   "pygments_lexer": "ipython3",
   "version": "3.8.6"
  }
 },
 "nbformat": 4,
 "nbformat_minor": 4
}
